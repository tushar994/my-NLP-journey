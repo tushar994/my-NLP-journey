{
 "cells": [
  {
   "cell_type": "markdown",
   "metadata": {},
   "source": [
    "<h1>This is what I have learnt about regular expressions <h1>"
   ]
  },
  {
   "cell_type": "markdown",
   "metadata": {},
   "source": [
    "Regular expressions are characters that basically represent a set of strings. These can be used to see if a certain text sample has a certain pattern that occurs. At the creation of thus, that is all I know about their application, and i highly doubt I will edit this later (eh)."
   ]
  },
  {
   "cell_type": "code",
   "execution_count": 2,
   "metadata": {},
   "outputs": [],
   "source": [
    "# first we import the appropriate library\n",
    "import re"
   ]
  },
  {
   "cell_type": "code",
   "execution_count": 3,
   "metadata": {},
   "outputs": [
    {
     "name": "stdout",
     "output_type": "stream",
     "text": [
      "<re.Match object; span=(0, 4), match='what'>\n"
     ]
    }
   ],
   "source": [
    "# re.search can be used to see if a regular expression occurs in some give text\n",
    "print(re.search('what', \"what are you doing with your life bruh?\"))\n",
    "# we are checking if the word what occurs in the sentence"
   ]
  },
  {
   "cell_type": "code",
   "execution_count": 4,
   "metadata": {},
   "outputs": [
    {
     "name": "stdout",
     "output_type": "stream",
     "text": [
      "<re.Match object; span=(0, 4), match='what'>\n"
     ]
    }
   ],
   "source": [
    "print(re.search('what', \"what are you doing with your life bruh? life what seriously\"))"
   ]
  },
  {
   "cell_type": "markdown",
   "metadata": {},
   "source": [
    "<b> clearly it only shows the first occurance<b>"
   ]
  },
  {
   "cell_type": "code",
   "execution_count": 5,
   "metadata": {},
   "outputs": [],
   "source": [
    "# now we define our own function to do the same thing, using the same function above (yes slightly redundant)\n",
    "# to make it slightly less redundant, we shall switch the input stucture, so that we feel like we are actually doing\n",
    "# something\n",
    "def find_it(text, patterns):\n",
    "    if re.search(patterns, text):\n",
    "        return re.search(patterns,text)\n",
    "    else :\n",
    "        return \"not present\""
   ]
  },
  {
   "cell_type": "markdown",
   "metadata": {},
   "source": [
    "<h2> Special Characters <h2>"
   ]
  },
  {
   "cell_type": "markdown",
   "metadata": {},
   "source": [
    "we will first look at '.', this character matches to any character besides the newline character\n",
    "i.e. The set it represents is the set of all strings containing any one character besides newline."
   ]
  },
  {
   "cell_type": "code",
   "execution_count": 6,
   "metadata": {},
   "outputs": [
    {
     "name": "stdout",
     "output_type": "stream",
     "text": [
      "<re.Match object; span=(0, 1), match='a'>\n",
      "<re.Match object; span=(0, 1), match='<'>\n",
      "<re.Match object; span=(0, 1), match=' '>\n",
      "<re.Match object; span=(0, 1), match='\\t'>\n",
      "<re.Match object; span=(0, 1), match='7'>\n",
      "not present\n"
     ]
    }
   ],
   "source": [
    "print(find_it('a','.'))\n",
    "print(find_it('<','.'))\n",
    "print(find_it(' ','.'))\n",
    "print(find_it('\\t','.'))\n",
    "print(find_it('7','.'))\n",
    "print(find_it('\\n','.'))"
   ]
  },
  {
   "cell_type": "markdown",
   "metadata": {},
   "source": [
    "now we will look at <b>'*'</b>. This matches to any string that has 0 or more occurances (without anything else in between) of the previous Regular Expression. By previous regular expression, we mean the previous character, interpreted as a regular expression."
   ]
  },
  {
   "cell_type": "code",
   "execution_count": 7,
   "metadata": {},
   "outputs": [
    {
     "name": "stdout",
     "output_type": "stream",
     "text": [
      "<re.Match object; span=(0, 1), match='a'>\n",
      "<re.Match object; span=(0, 2), match='ab'>\n",
      "<re.Match object; span=(0, 7), match='abbbbbb'>\n",
      "<re.Match object; span=(0, 7), match='abbbbbb'>\n",
      "<re.Match object; span=(0, 10), match='aaaabbbbbb'>\n",
      "<re.Match object; span=(0, 1), match='a'>\n",
      "<re.Match object; span=(0, 0), match=''>\n",
      "not present\n"
     ]
    }
   ],
   "source": [
    "print(find_it('a','ab*'))\n",
    "print(find_it('ab','ab*'))\n",
    "print(find_it('abbbbbb','ab*'))\n",
    "print(find_it('abbbbbb','.*'))\n",
    "print(find_it('aaaabbbbbb','aa.*'))\n",
    "print(find_it('acccddd','a*'))\n",
    "print(find_it('cccddd','a*'))\n",
    "print(find_it('acccddd','ba*'))"
   ]
  },
  {
   "cell_type": "markdown",
   "metadata": {},
   "source": [
    "Now we look at <b> '+' </b>. This does the almost same thing as <b> '*' </b>, The only difference is that instead of 0 or more ocurrances, it only matches to 1 or more occurances."
   ]
  },
  {
   "cell_type": "code",
   "execution_count": 8,
   "metadata": {},
   "outputs": [
    {
     "name": "stdout",
     "output_type": "stream",
     "text": [
      "not present\n",
      "<re.Match object; span=(0, 2), match='ab'>\n",
      "<re.Match object; span=(0, 7), match='abbbbbb'>\n",
      "<re.Match object; span=(0, 7), match='abbbbbb'>\n",
      "<re.Match object; span=(0, 10), match='aaaabbbbbb'>\n",
      "<re.Match object; span=(0, 1), match='a'>\n",
      "not present\n",
      "not present\n"
     ]
    }
   ],
   "source": [
    "print(find_it('a','ab+'))\n",
    "print(find_it('ab','ab+'))\n",
    "print(find_it('abbbbbb','ab+'))\n",
    "print(find_it('abbbbbb','.+'))\n",
    "print(find_it('aaaabbbbbb','aa.+'))\n",
    "print(find_it('acccddd','a+'))\n",
    "print(find_it('cccddd','a+'))\n",
    "print(find_it('acccddd','ba+'))"
   ]
  },
  {
   "cell_type": "markdown",
   "metadata": {},
   "source": [
    "Now we look at <b> '?' </b>. This does the almost same thing as <b> '*' </b>, The only difference is that instead of 0 or more ocurrances, it only matches to 0 or 1 occurances."
   ]
  },
  {
   "cell_type": "code",
   "execution_count": 9,
   "metadata": {},
   "outputs": [
    {
     "name": "stdout",
     "output_type": "stream",
     "text": [
      "<re.Match object; span=(0, 1), match='a'>\n",
      "<re.Match object; span=(0, 2), match='ab'>\n",
      "<re.Match object; span=(0, 2), match='ab'>\n",
      "<re.Match object; span=(0, 1), match='a'>\n",
      "<re.Match object; span=(0, 3), match='aaa'>\n",
      "<re.Match object; span=(0, 1), match='a'>\n",
      "<re.Match object; span=(0, 0), match=''>\n",
      "not present\n"
     ]
    }
   ],
   "source": [
    "print(find_it('a','ab?'))\n",
    "print(find_it('ab','ab?'))\n",
    "print(find_it('abbbbbb','ab?'))\n",
    "print(find_it('abbbbbb','.?'))\n",
    "print(find_it('aaaabbbbbb','aa.?'))\n",
    "print(find_it('acccddd','a?'))\n",
    "print(find_it('cccddd','a?'))\n",
    "print(find_it('acccddd','ba?'))"
   ]
  },
  {
   "cell_type": "markdown",
   "metadata": {},
   "source": [
    "<b>Note above that 'ab?' matches to 'ab' present in 'abbbbbb', it doesn't match to 'abbbbb' itself</b>"
   ]
  },
  {
   "cell_type": "markdown",
   "metadata": {},
   "source": [
    "<h3> To be gready, or not be? </h3>\n",
    "<p>\n",
    "    The regular expressions ?,*,+ are greedy, that it, they 'try' to fit in as much as possible. Sometimes you might not want that, to override that, simply put a ? in front of them. i.e. their non-greedy equivalents are ??,*?,+?.</p>"
   ]
  },
  {
   "cell_type": "code",
   "execution_count": 10,
   "metadata": {},
   "outputs": [
    {
     "name": "stdout",
     "output_type": "stream",
     "text": [
      "<re.Match object; span=(0, 28), match='<webdev>i am webdev</webdev>'>\n",
      "<re.Match object; span=(0, 8), match='<webdev>'>\n",
      "<re.Match object; span=(0, 3), match='bbb'>\n",
      "<re.Match object; span=(0, 0), match=''>\n",
      "<re.Match object; span=(0, 3), match='bbb'>\n",
      "<re.Match object; span=(0, 1), match='b'>\n",
      "<re.Match object; span=(0, 1), match='b'>\n",
      "<re.Match object; span=(0, 0), match=''>\n"
     ]
    }
   ],
   "source": [
    "print(find_it('<webdev>i am webdev</webdev>','<.*>'))\n",
    "print(find_it('<webdev>i am webdev</webdev>','<.*?>'))\n",
    "print(find_it('bbb','.*'))\n",
    "print(find_it('bbb','.*?'))\n",
    "print(find_it('bbb','.+'))\n",
    "print(find_it('bbb','.+?'))\n",
    "print(find_it('bbb','.?'))\n",
    "print(find_it('bbb','.??'))"
   ]
  },
  {
   "cell_type": "markdown",
   "metadata": {},
   "source": [
    "<b> Notice how changes what string the regular expressions match to <b>"
   ]
  },
  {
   "cell_type": "markdown",
   "metadata": {},
   "source": [
    "If you want to see if the previous Regular Expresson occurs say n times, then you can use {n}. If you are fine with it being in the range n,m then you use {n,m}"
   ]
  },
  {
   "cell_type": "code",
   "execution_count": 11,
   "metadata": {},
   "outputs": [
    {
     "name": "stdout",
     "output_type": "stream",
     "text": [
      "<re.Match object; span=(0, 5), match='abbbb'>\n",
      "<re.Match object; span=(0, 4), match='abbb'>\n",
      "<re.Match object; span=(0, 5), match='abbbb'>\n",
      "<re.Match object; span=(0, 4), match='abbb'>\n",
      "<re.Match object; span=(0, 5), match='abbbb'>\n",
      "<re.Match object; span=(0, 6), match='abcdef'>\n"
     ]
    }
   ],
   "source": [
    "print(find_it('abbbb','ab{4}'))\n",
    "print(find_it('abbbb','ab{3}'))\n",
    "print(find_it('abbbb','ab{3,9}'))\n",
    "print(find_it('abbb','ab{3,9}'))\n",
    "print(find_it('abbbb','ab{3,4}'))\n",
    "print(find_it('abcdef','a.{3,9}'))"
   ]
  },
  {
   "cell_type": "markdown",
   "metadata": {},
   "source": [
    "You can make then 'non-greedy' too"
   ]
  },
  {
   "cell_type": "code",
   "execution_count": 12,
   "metadata": {},
   "outputs": [
    {
     "name": "stdout",
     "output_type": "stream",
     "text": [
      "<re.Match object; span=(0, 4), match='abcd'>\n",
      "<re.Match object; span=(0, 2), match='ab'>\n",
      "<re.Match object; span=(0, 1), match='a'>\n"
     ]
    }
   ],
   "source": [
    "# no point in making {n} non-greedy, it accepts exactly n anyway\n",
    "print(find_it('abcdef','a.{3,9}?'))\n",
    "print(find_it('abbbb','ab{1,9}?'))\n",
    "print(find_it('abbbb','.{1,3}?'))"
   ]
  },
  {
   "cell_type": "markdown",
   "metadata": {},
   "source": [
    "Now we look at <b> '^' </b>. whatever you put after this, should be at the starting of the string, if it is to be matched"
   ]
  },
  {
   "cell_type": "code",
   "execution_count": 13,
   "metadata": {},
   "outputs": [
    {
     "name": "stdout",
     "output_type": "stream",
     "text": [
      "<re.Match object; span=(0, 1), match='a'>\n",
      "not present\n",
      "not present\n",
      "<re.Match object; span=(0, 3), match='abc'>\n",
      "not present\n"
     ]
    }
   ],
   "source": [
    "print(find_it('abc','^a'))\n",
    "print(find_it('abc','^abcd'))\n",
    "print(find_it('abc','^b'))\n",
    "print(find_it('abc','^a.{2,3}'))\n",
    "# this is not supposed to make sense\n",
    "print(find_it('abc','a^'))"
   ]
  },
  {
   "cell_type": "markdown",
   "metadata": {},
   "source": [
    "Now, we look at <b> '$' </b>, whatever is before this, should be in the ending of the string, if it is to be matched "
   ]
  },
  {
   "cell_type": "code",
   "execution_count": 14,
   "metadata": {},
   "outputs": [
    {
     "name": "stdout",
     "output_type": "stream",
     "text": [
      "<re.Match object; span=(2, 3), match='s'>\n",
      "<re.Match object; span=(0, 3), match='abc'>\n",
      "not present\n",
      "<re.Match object; span=(2, 3), match='c'>\n",
      "not present\n"
     ]
    }
   ],
   "source": [
    "print(find_it('abs','s$'))\n",
    "print(find_it('abc','abc$'))\n",
    "print(find_it('abc','a$'))\n",
    "print(find_it('abc','.$'))\n",
    "# this one is not supposed to make sense\n",
    "print(find_it('abc','$a'))"
   ]
  },
  {
   "cell_type": "markdown",
   "metadata": {},
   "source": [
    "Now we look at character sets.<br>\n",
    "'[abc]' will match with a string if it has a,b, or c <br>\n",
    "'[a-z] for any character from a to z<br>\n",
    "'[0-9]' for any character from 0 to 9<br>\n",
    "'[A-Z] for any character from A to Z<br>\n",
    "'[A-Za-z] for any character from a to z or A to Z<br>\n"
   ]
  },
  {
   "cell_type": "code",
   "execution_count": 15,
   "metadata": {},
   "outputs": [
    {
     "name": "stdout",
     "output_type": "stream",
     "text": [
      "<re.Match object; span=(0, 1), match='a'>\n",
      "<re.Match object; span=(0, 1), match='a'>\n",
      "<re.Match object; span=(0, 1), match='a'>\n",
      "<re.Match object; span=(0, 1), match='0'>\n",
      "not present\n",
      "<re.Match object; span=(0, 1), match='A'>\n"
     ]
    }
   ],
   "source": [
    "print(find_it('a','[abc]'))\n",
    "print(find_it('ab','[abc]'))\n",
    "print(find_it('a','[a-c]'))\n",
    "print(find_it('0','[0-5]'))\n",
    "print(find_it('d','[abc]'))\n",
    "print(find_it('A','[A-B]'))"
   ]
  },
  {
   "cell_type": "markdown",
   "metadata": {},
   "source": [
    "putting a ^ at the starting in the character set ats like a complement, i.e. [^abc] will match with a string not containing a or b or c"
   ]
  },
  {
   "cell_type": "code",
   "execution_count": 16,
   "metadata": {},
   "outputs": [
    {
     "name": "stdout",
     "output_type": "stream",
     "text": [
      "not present\n",
      "not present\n",
      "not present\n",
      "not present\n",
      "<re.Match object; span=(0, 1), match='d'>\n",
      "not present\n",
      "<re.Match object; span=(0, 1), match='#'>\n"
     ]
    }
   ],
   "source": [
    "print(find_it('a','[^abc]'))\n",
    "print(find_it('ab','[^abc]'))\n",
    "print(find_it('a','[^a-c]'))\n",
    "print(find_it('0','[^0-5]'))\n",
    "print(find_it('d','[^abc]'))\n",
    "print(find_it('A','[^A-B]'))\n",
    "print(find_it('#','[^A-B]'))"
   ]
  },
  {
   "cell_type": "markdown",
   "metadata": {},
   "source": [
    "say you want to know if the string contains a ?, then you can do this."
   ]
  },
  {
   "cell_type": "code",
   "execution_count": 17,
   "metadata": {},
   "outputs": [
    {
     "name": "stdout",
     "output_type": "stream",
     "text": [
      "<re.Match object; span=(0, 1), match='?'>\n"
     ]
    }
   ],
   "source": [
    "print(find_it('?',\"\\?\"))"
   ]
  },
  {
   "cell_type": "markdown",
   "metadata": {},
   "source": [
    "basically putting a \\ tells it that the next character is nt a special one, but a normal one"
   ]
  },
  {
   "cell_type": "markdown",
   "metadata": {},
   "source": [
    "<h2> Now we talk about a few functions </h2>"
   ]
  },
  {
   "cell_type": "markdown",
   "metadata": {},
   "source": [
    "We have been using re.search() so far. Now, we will talk about a few other functions <br>\n",
    "re.match(pattern,string) - <br>\n",
    "&emsp;    This one checks if the patern is present at the starting of string<br>\n",
    "re.findall(pattern, string) - <br>\n",
    "&emsp;    This one returs a list of all the non-overlapping matches of pattern in string. It does this by scanning from left to right<br>\n",
    "finditer(pattern,string)-<br>\n",
    "&emsp;    Does the same thing as above, but returns an iterator<br>\n",
    "sub(pattern,subl,string)-<br>\n",
    "&emsp;    returns the string obtained by replacing all the non-overlapping matches of the pattern and the string with the subl.<br>"
   ]
  },
  {
   "cell_type": "code",
   "execution_count": 18,
   "metadata": {},
   "outputs": [
    {
     "name": "stdout",
     "output_type": "stream",
     "text": [
      "None\n"
     ]
    }
   ],
   "source": [
    "print(re.match('b+','abbc'))"
   ]
  },
  {
   "cell_type": "code",
   "execution_count": 19,
   "metadata": {},
   "outputs": [
    {
     "name": "stdout",
     "output_type": "stream",
     "text": [
      "['', 'bb', '', '']\n"
     ]
    }
   ],
   "source": [
    "print(re.findall('b*','abbc'))"
   ]
  },
  {
   "cell_type": "code",
   "execution_count": 20,
   "metadata": {},
   "outputs": [
    {
     "name": "stdout",
     "output_type": "stream",
     "text": [
      "cccce Gone\n"
     ]
    }
   ],
   "source": [
    "print(re.sub('B+','cccc','Be Gone'))"
   ]
  },
  {
   "cell_type": "markdown",
   "metadata": {},
   "source": [
    "<b> Now we will talk about grouping</b>"
   ]
  },
  {
   "cell_type": "code",
   "execution_count": 23,
   "metadata": {},
   "outputs": [
    {
     "name": "stdout",
     "output_type": "stream",
     "text": [
      "[('2017', '10', '28')]\n"
     ]
    }
   ],
   "source": [
    "url = \"http://www.telegraph.co.uk/formula-1/2017/10/28/mexican-grand-prix-2017-time-does-start-tv-channel-odds-lewisl/2017/05/12\"\n",
    "date_regex = '/(\\d{4})/(\\d{1,2})/(\\d{1,2})/'\n",
    "print(re.findall(date_regex, url))]\n",
    "#\\d is equivalent to [0-9]"
   ]
  },
  {
   "cell_type": "markdown",
   "metadata": {},
   "source": [
    "In the string '/(\\d{4})/(\\d{1,2})/(\\d{1,2})/', we can see that there are parts wrapped in (). These are done to divide the RE into groups. Now, when we get a string that has matched with a given subgroup, we can access these groups, which are substrings of the matched string"
   ]
  },
  {
   "cell_type": "code",
   "execution_count": 24,
   "metadata": {},
   "outputs": [
    {
     "name": "stdout",
     "output_type": "stream",
     "text": [
      "/2017/10/28/\n",
      "2017\n",
      "10\n",
      "28\n"
     ]
    }
   ],
   "source": [
    "m1 = re.search(date_regex, url)\n",
    "print(m1.group())\n",
    "print(m1.group(1))\n",
    "print(m1.group(2))\n",
    "print(m1.group(3))"
   ]
  },
  {
   "cell_type": "markdown",
   "metadata": {},
   "source": [
    "So yeah."
   ]
  },
  {
   "cell_type": "markdown",
   "metadata": {},
   "source": [
    "if you have any questions, read the documentation"
   ]
  },
  {
   "cell_type": "code",
   "execution_count": null,
   "metadata": {},
   "outputs": [],
   "source": []
  }
 ],
 "metadata": {
  "kernelspec": {
   "display_name": "Python 3",
   "language": "python",
   "name": "python3"
  },
  "language_info": {
   "codemirror_mode": {
    "name": "ipython",
    "version": 3
   },
   "file_extension": ".py",
   "mimetype": "text/x-python",
   "name": "python",
   "nbconvert_exporter": "python",
   "pygments_lexer": "ipython3",
   "version": "3.7.4"
  }
 },
 "nbformat": 4,
 "nbformat_minor": 2
}
