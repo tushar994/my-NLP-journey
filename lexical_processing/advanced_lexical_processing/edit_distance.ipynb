{
 "cells": [
  {
   "cell_type": "markdown",
   "metadata": {},
   "source": [
    "In text samples, we may come across words which have been spelled incorrectly, To handle these, we will built a spell checker. But in order to do that we must understand a concept called edit distance<br>\n",
    "The edit distance between any two words, is the minimum number of operations we need to do to one of them, to get the other one.<br>\n",
    "the valid operations are:-<br>\n",
    "1) deletion of a character<br>\n",
    "2) insertion of a character<br>\n",
    "3) editing one character to another<br>"
   ]
  },
  {
   "cell_type": "markdown",
   "metadata": {},
   "source": [
    "To do this, we will use a recursive algorithm, say the two string are str1, str2<br>\n",
    "say the last character of str1 is c and the last character of str2 is d, then edit distance of the two words is (let us says str1t is str1 without the last character and str2t is str2 without the last character)<br>\n",
    "min( edit_distance(str2t,str1t) +1, edit_distance(str2t,str1) +1, edit_distance(str2,str1t) +1) \n",
    "and if their last characters were the same then the minimum distance would be <br>\n",
    "edit_distance (str2t,str1t).<br>"
   ]
  },
  {
   "cell_type": "code",
   "execution_count": 64,
   "metadata": {},
   "outputs": [],
   "source": [
    "def edit_distance(str1,str2):\n",
    "        \n",
    "    #get their lengths\n",
    "    len1 = len(str1)\n",
    "    len2 = len(str2)\n",
    "\n",
    "    matrix = [ [0 for i in range(len1 + 1) ] for j in range(len2 + 1) ]\n",
    "  \n",
    "    for i in range(0,len1+1):\n",
    "        matrix[0][i] = i\n",
    "    for i in range(0,len2+1):\n",
    "        matrix[i][0] = i\n",
    "        \n",
    "        \n",
    "    for i in range(1,len2+1):\n",
    "        for j in range(1,len1+1):\n",
    "            if(str1[j-1]==str2[i-1]):\n",
    "                matrix[i][j] = matrix[i-1][j-1]\n",
    "            else:\n",
    "                matrix[i][j] = min(matrix[i-1][j-1] + 1,matrix[i][j-1] + 1,matrix[i-1][j] + 1)\n",
    "    \n",
    "    \n",
    "    return matrix[-1][-1]"
   ]
  },
  {
   "cell_type": "code",
   "execution_count": 70,
   "metadata": {},
   "outputs": [
    {
     "name": "stdout",
     "output_type": "stream",
     "text": [
      "1\n",
      "1\n",
      "1\n",
      "6\n"
     ]
    }
   ],
   "source": [
    "print((edit_distance('okay','oka')))\n",
    "print((edit_distance('hithere','hitgere')))\n",
    "print((edit_distance('okay','okayy')))\n",
    "print((edit_distance('okay','whybro')))"
   ]
  },
  {
   "cell_type": "markdown",
   "metadata": {},
   "source": [
    "There are inbuilt functions too!!\n"
   ]
  },
  {
   "cell_type": "code",
   "execution_count": 71,
   "metadata": {},
   "outputs": [
    {
     "data": {
      "text/plain": [
       "2"
      ]
     },
     "execution_count": 71,
     "metadata": {},
     "output_type": "execute_result"
    }
   ],
   "source": [
    "from nltk.metrics.distance import edit_distance\n",
    "edit_distance('apples','appl')"
   ]
  },
  {
   "cell_type": "markdown",
   "metadata": {},
   "source": [
    "There is another type od edit distance where swapping two consecutive letters is also an allowed operation"
   ]
  },
  {
   "cell_type": "code",
   "execution_count": 73,
   "metadata": {},
   "outputs": [
    {
     "data": {
      "text/plain": [
       "1"
      ]
     },
     "execution_count": 73,
     "metadata": {},
     "output_type": "execute_result"
    }
   ],
   "source": [
    "edit_distance(\"apple\", \"appel\", transpositions=True, )"
   ]
  },
  {
   "cell_type": "markdown",
   "metadata": {},
   "source": [
    "Thats it ig"
   ]
  },
  {
   "cell_type": "code",
   "execution_count": null,
   "metadata": {},
   "outputs": [],
   "source": []
  }
 ],
 "metadata": {
  "kernelspec": {
   "display_name": "Python 3",
   "language": "python",
   "name": "python3"
  },
  "language_info": {
   "codemirror_mode": {
    "name": "ipython",
    "version": 3
   },
   "file_extension": ".py",
   "mimetype": "text/x-python",
   "name": "python",
   "nbconvert_exporter": "python",
   "pygments_lexer": "ipython3",
   "version": "3.9.1"
  }
 },
 "nbformat": 4,
 "nbformat_minor": 2
}
