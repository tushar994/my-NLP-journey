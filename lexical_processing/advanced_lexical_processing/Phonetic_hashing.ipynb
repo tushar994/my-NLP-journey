{
 "cells": [
  {
   "cell_type": "markdown",
   "metadata": {},
   "source": [
    "We will be talking about Phonetic hashing now. This is a process by which we give a code to each word, such that words which are spelled differently, by mean the same thing, are given the same code. words like bengaluru and bangalore, color and colour. <br>\n",
    "<b> here, I will describe the Soundex algorithm</b><br>\n",
    "It assigns a four letter code to each word, and words with the same code are considered the same.<br>\n",
    "<br>\n",
    "Then the first letter of the code is the first letter.<br>\n",
    "The way it does this is is, first it removes all the letters that are vowels,h,y,or w.<br>\n",
    "The rest of the consonents are mapped as follows<br>\n",
    "b,f,p,v => 1<br>\n",
    "c,g,j,,k,q,s,x,z => 2<br>\n",
    "l => 3<br>\n",
    "m,n => 4<br>\n",
    "r => 5<br>\n",
    "\n",
    "Then, we mergse all the consecutive numbers wihich are the same<br>\n",
    "Then, to make it four letters, we either truncate it from the left or add zeros to the lef, or leave it<br>\n",
    "\n",
    "for example <br>\n",
    "Mississippi<br>\n",
    "first letter of the code is M<br>\n",
    "then, we remove the letter that are to be removed<br>\n",
    "Msssspp<br>\n",
    "then, we map<br>\n",
    "M222211<br>\n",
    "Then we join<br>\n",
    "M21<br>\n",
    "then we make it four digits<br>\n",
    "M210<br>"
   ]
  },
  {
   "cell_type": "code",
   "execution_count": 5,
   "metadata": {},
   "outputs": [],
   "source": [
    "# this is our soundex algorithm\n",
    "def soundex(word):\n",
    "    word = word.lower()\n",
    "    code = ''\n",
    "    code += word[0]\n",
    "    \n",
    "    remove = 'aeiuohyw'\n",
    "    for char in remove:\n",
    "        word.replace(char,'')\n",
    "    the_map = {'bfpv' : '1', 'cgjkqsxz' : '2', 'l' :'3', 'mn' : '4', 'r' : '5'}\n",
    "    for char in word[1:]:\n",
    "        for key in the_map.keys():\n",
    "            if char in key:\n",
    "                num = the_map[key]\n",
    "                if num!= code[-1]:\n",
    "                    code += num\n",
    "    soundex = code[:4].ljust(4, \"0\")\n",
    "    return soundex"
   ]
  },
  {
   "cell_type": "markdown",
   "metadata": {},
   "source": [
    "Lets see a few examples\n"
   ]
  },
  {
   "cell_type": "code",
   "execution_count": 8,
   "metadata": {},
   "outputs": [
    {
     "name": "stdout",
     "output_type": "stream",
     "text": [
      "k000\n",
      "w000\n",
      "m210\n",
      "h000\n",
      "t250\n",
      "m200\n",
      "v524\n",
      "r200\n"
     ]
    }
   ],
   "source": [
    "print(soundex('k'))\n",
    "print(soundex('what'))\n",
    "print(soundex('mississippi'))\n",
    "print(soundex('how'))\n",
    "print(soundex('tushar'))\n",
    "print(soundex('mohak'))\n",
    "print(soundex('vrishan'))\n",
    "print(soundex('resisted'))"
   ]
  },
  {
   "cell_type": "markdown",
   "metadata": {},
   "source": [
    "yeah"
   ]
  },
  {
   "cell_type": "code",
   "execution_count": null,
   "metadata": {},
   "outputs": [],
   "source": []
  }
 ],
 "metadata": {
  "kernelspec": {
   "display_name": "Python 3",
   "language": "python",
   "name": "python3"
  },
  "language_info": {
   "codemirror_mode": {
    "name": "ipython",
    "version": 3
   },
   "file_extension": ".py",
   "mimetype": "text/x-python",
   "name": "python",
   "nbconvert_exporter": "python",
   "pygments_lexer": "ipython3",
   "version": "3.9.1"
  }
 },
 "nbformat": 4,
 "nbformat_minor": 2
}
