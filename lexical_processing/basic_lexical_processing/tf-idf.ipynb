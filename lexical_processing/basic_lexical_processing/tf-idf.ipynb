{
 "cells": [
  {
   "cell_type": "markdown",
   "metadata": {},
   "source": [
    "<b> So far, we have only been using the word count, but there are beter ways to measure how important a word is. One such way is using tf-idf values. So say we have a bunch of documents that are to be used as a training set, we will find that tf-idf values of each word in each document and use these vaues to build a model.</b>"
   ]
  },
  {
   "cell_type": "markdown",
   "metadata": {},
   "source": [
    "tf-idf value for each term in a document is defined as follows, "
   ]
  },
  {
   "cell_type": "markdown",
   "metadata": {},
   "source": [
    "tf = freq of term in document d/ total number of terms in document d"
   ]
  },
  {
   "cell_type": "markdown",
   "metadata": {},
   "source": [
    "idf = log(tot number of documents/ number of documents with the term)"
   ]
  },
  {
   "cell_type": "markdown",
   "metadata": {},
   "source": [
    "tf-idf = tf * idf"
   ]
  },
  {
   "cell_type": "code",
   "execution_count": 4,
   "metadata": {},
   "outputs": [],
   "source": [
    "import pandas as pd\n",
    "from nltk.tokenize import word_tokenize\n",
    "from nltk.corpus import stopwords\n",
    "from sklearn.feature_extraction.text import TfidfVectorizer\n",
    "from nltk.stem.porter import PorterStemmer\n",
    "\n",
    "pd.set_option('max_colwidth', 100)"
   ]
  },
  {
   "cell_type": "code",
   "execution_count": 5,
   "metadata": {},
   "outputs": [
    {
     "name": "stdout",
     "output_type": "stream",
     "text": [
      "['Vapour, Bangalore has a really great terrace seating and an awesome view of the Bangalore skyline', 'The beer at Vapour, Bangalore was amazing. My favorites are the wheat beer and the ale beer.', 'Vapour, Bangalore has the best view in Bangalore.']\n"
     ]
    }
   ],
   "source": [
    "documents = [\"Vapour, Bangalore has a really great terrace seating and an awesome view of the Bangalore skyline\",\n",
    "             \"The beer at Vapour, Bangalore was amazing. My favorites are the wheat beer and the ale beer.\",\n",
    "             \"Vapour, Bangalore has the best view in Bangalore.\"]\n",
    "print(documents)"
   ]
  },
  {
   "cell_type": "code",
   "execution_count": 9,
   "metadata": {},
   "outputs": [],
   "source": [
    "stemmer = PorterStemmer()\n",
    "def preprocess(documents):\n",
    "    documents = documents.lower()\n",
    "    documents = word_tokenize(documents)\n",
    "    documents = (document for document in documents if document not in stopwords.words(\"english\"))\n",
    "    documents = [stemmer.stem(document) for document in documents]\n",
    "    documents = \" \".join(documents)\n",
    "    return documents"
   ]
  },
  {
   "cell_type": "code",
   "execution_count": 11,
   "metadata": {},
   "outputs": [
    {
     "name": "stdout",
     "output_type": "stream",
     "text": [
      "['vapour , bangalor realli great terrac seat awesom view bangalor skylin', 'beer vapour , bangalor amaz . favorit wheat beer ale beer .', 'vapour , bangalor best view bangalor .']\n"
     ]
    }
   ],
   "source": [
    "documents = [preprocess(document) for document in documents]\n",
    "print(documents)"
   ]
  },
  {
   "cell_type": "code",
   "execution_count": 18,
   "metadata": {},
   "outputs": [
    {
     "name": "stdout",
     "output_type": "stream",
     "text": [
      "  (0, 10)\t0.34663478992044555\n",
      "  (0, 13)\t0.2636246924033099\n",
      "  (0, 2)\t0.34663478992044555\n",
      "  (0, 9)\t0.34663478992044555\n",
      "  (0, 11)\t0.34663478992044555\n",
      "  (0, 7)\t0.34663478992044555\n",
      "  (0, 8)\t0.34663478992044555\n",
      "  (0, 3)\t0.40945618183743365\n",
      "  (0, 12)\t0.20472809091871683\n",
      "  (1, 0)\t0.2701947410011521\n",
      "  (1, 14)\t0.2701947410011521\n",
      "  (1, 6)\t0.2701947410011521\n",
      "  (1, 1)\t0.2701947410011521\n",
      "  (1, 4)\t0.8105842230034562\n",
      "  (1, 3)\t0.15958136664279549\n",
      "  (1, 12)\t0.15958136664279549\n",
      "  (2, 5)\t0.5486117771118656\n",
      "  (2, 13)\t0.4172333972107692\n",
      "  (2, 3)\t0.6480379064629606\n",
      "  (2, 12)\t0.3240189532314803\n"
     ]
    }
   ],
   "source": [
    "# this is where we create a model based on tf-idf values\n",
    "vectorizer = TfidfVectorizer()\n",
    "model = vectorizer.fit_transform(documents)\n",
    "print(model)"
   ]
  },
  {
   "cell_type": "code",
   "execution_count": 19,
   "metadata": {},
   "outputs": [
    {
     "data": {
      "text/html": [
       "<div>\n",
       "<style scoped>\n",
       "    .dataframe tbody tr th:only-of-type {\n",
       "        vertical-align: middle;\n",
       "    }\n",
       "\n",
       "    .dataframe tbody tr th {\n",
       "        vertical-align: top;\n",
       "    }\n",
       "\n",
       "    .dataframe thead th {\n",
       "        text-align: right;\n",
       "    }\n",
       "</style>\n",
       "<table border=\"1\" class=\"dataframe\">\n",
       "  <thead>\n",
       "    <tr style=\"text-align: right;\">\n",
       "      <th></th>\n",
       "      <th>ale</th>\n",
       "      <th>amaz</th>\n",
       "      <th>awesom</th>\n",
       "      <th>bangalor</th>\n",
       "      <th>beer</th>\n",
       "      <th>best</th>\n",
       "      <th>favorit</th>\n",
       "      <th>great</th>\n",
       "      <th>realli</th>\n",
       "      <th>seat</th>\n",
       "      <th>skylin</th>\n",
       "      <th>terrac</th>\n",
       "      <th>vapour</th>\n",
       "      <th>view</th>\n",
       "      <th>wheat</th>\n",
       "    </tr>\n",
       "  </thead>\n",
       "  <tbody>\n",
       "    <tr>\n",
       "      <td>0</td>\n",
       "      <td>0.000000</td>\n",
       "      <td>0.000000</td>\n",
       "      <td>0.346635</td>\n",
       "      <td>0.409456</td>\n",
       "      <td>0.000000</td>\n",
       "      <td>0.000000</td>\n",
       "      <td>0.000000</td>\n",
       "      <td>0.346635</td>\n",
       "      <td>0.346635</td>\n",
       "      <td>0.346635</td>\n",
       "      <td>0.346635</td>\n",
       "      <td>0.346635</td>\n",
       "      <td>0.204728</td>\n",
       "      <td>0.263625</td>\n",
       "      <td>0.000000</td>\n",
       "    </tr>\n",
       "    <tr>\n",
       "      <td>1</td>\n",
       "      <td>0.270195</td>\n",
       "      <td>0.270195</td>\n",
       "      <td>0.000000</td>\n",
       "      <td>0.159581</td>\n",
       "      <td>0.810584</td>\n",
       "      <td>0.000000</td>\n",
       "      <td>0.270195</td>\n",
       "      <td>0.000000</td>\n",
       "      <td>0.000000</td>\n",
       "      <td>0.000000</td>\n",
       "      <td>0.000000</td>\n",
       "      <td>0.000000</td>\n",
       "      <td>0.159581</td>\n",
       "      <td>0.000000</td>\n",
       "      <td>0.270195</td>\n",
       "    </tr>\n",
       "    <tr>\n",
       "      <td>2</td>\n",
       "      <td>0.000000</td>\n",
       "      <td>0.000000</td>\n",
       "      <td>0.000000</td>\n",
       "      <td>0.648038</td>\n",
       "      <td>0.000000</td>\n",
       "      <td>0.548612</td>\n",
       "      <td>0.000000</td>\n",
       "      <td>0.000000</td>\n",
       "      <td>0.000000</td>\n",
       "      <td>0.000000</td>\n",
       "      <td>0.000000</td>\n",
       "      <td>0.000000</td>\n",
       "      <td>0.324019</td>\n",
       "      <td>0.417233</td>\n",
       "      <td>0.000000</td>\n",
       "    </tr>\n",
       "  </tbody>\n",
       "</table>\n",
       "</div>"
      ],
      "text/plain": [
       "        ale      amaz    awesom  bangalor      beer      best   favorit  \\\n",
       "0  0.000000  0.000000  0.346635  0.409456  0.000000  0.000000  0.000000   \n",
       "1  0.270195  0.270195  0.000000  0.159581  0.810584  0.000000  0.270195   \n",
       "2  0.000000  0.000000  0.000000  0.648038  0.000000  0.548612  0.000000   \n",
       "\n",
       "      great    realli      seat    skylin    terrac    vapour      view  \\\n",
       "0  0.346635  0.346635  0.346635  0.346635  0.346635  0.204728  0.263625   \n",
       "1  0.000000  0.000000  0.000000  0.000000  0.000000  0.159581  0.000000   \n",
       "2  0.000000  0.000000  0.000000  0.000000  0.000000  0.324019  0.417233   \n",
       "\n",
       "      wheat  \n",
       "0  0.000000  \n",
       "1  0.270195  \n",
       "2  0.000000  "
      ]
     },
     "execution_count": 19,
     "metadata": {},
     "output_type": "execute_result"
    }
   ],
   "source": [
    "pd.DataFrame(model.toarray(), columns = vectorizer.get_feature_names())"
   ]
  },
  {
   "cell_type": "markdown",
   "metadata": {},
   "source": [
    "That was easy wasn't it?"
   ]
  },
  {
   "cell_type": "code",
   "execution_count": null,
   "metadata": {},
   "outputs": [],
   "source": []
  }
 ],
 "metadata": {
  "kernelspec": {
   "display_name": "Python 3",
   "language": "python",
   "name": "python3"
  },
  "language_info": {
   "codemirror_mode": {
    "name": "ipython",
    "version": 3
   },
   "file_extension": ".py",
   "mimetype": "text/x-python",
   "name": "python",
   "nbconvert_exporter": "python",
   "pygments_lexer": "ipython3",
   "version": "3.7.4"
  }
 },
 "nbformat": 4,
 "nbformat_minor": 2
}
