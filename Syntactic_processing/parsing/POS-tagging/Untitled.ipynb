{
 "cells": [
  {
   "cell_type": "markdown",
   "metadata": {},
   "source": [
    "Here, we will talk about doing POS-tagging, using a more probabilistic approach.\n",
    "\n",
    "We will first talk about one approach, which turns out to be too computationally expensive.\n",
    "\n",
    "To explain it, we will take a very simplified case.\n",
    "\n",
    "Assume that the language we are using, has only three parts of speech, and we want to find the POS-tags of a three word sequenc.\n",
    "\n",
    "we will represent the sequence as w1 w2 w3\n",
    "\n",
    "Now, there are 27 possible POS-tags for this sequence.We will represent the parts of speech as A,B,C\n",
    "\n",
    "These possibilities are\n",
    "\n",
    "<ul>\n",
    "    <li>AAA</li>\n",
    "    <li>AAB</li>\n",
    "    <li>AAC</li>\n",
    "    <li>ABA</li>\n",
    "    <li>ABB</li>\n",
    "    <li>ABC</li>\n",
    "    <li>ACA</li>\n",
    "    <li>ACB</li>\n",
    "    <li>ACC</li>\n",
    "    <li>BAA</li>\n",
    "    <li>BAB</li>\n",
    "    <li>BAC</li>\n",
    "    <li>BBA</li>\n",
    "    <li>BBB</li>\n",
    "    <li>BBC</li>\n",
    "    <li>BCA</li>\n",
    "    <li>BCB</li>\n",
    "    <li>BCC</li>\n",
    "    <li>CAA</li>\n",
    "    <li>CAB</li>\n",
    "    <li>CAC</li>\n",
    "    <li>CBA</li>\n",
    "    <li>CBB</li>\n",
    "    <li>CBC</li>\n",
    "    <li>CCA</li>\n",
    "    <li>CCB</li>\n",
    "    <li>CCC</li>\n",
    "</ul>\n",
    "\n",
    "We will map w1 w2 w3 to the pos sequence such that P({given pos tag}| w1 w2 w3 is sequence) is maximum\n",
    "using Bayes' rule, we can simplify this, and make it relatively easy to calculate.\n",
    "\n",
    "Notice that We have to do this calculation for all 27 possibilities. Take the case in english, where we have 27 tags, and the text sample that we want to tag can have a sizegreater than 100. The number of possiblities in any of those cases is \n",
    "\n",
    "(Numeber of tags)^(size of text sample)\n",
    "\n",
    "See the problem?\n",
    "\n",
    "Don't worry, there is a more efficient way to do POS tagging probabilistically.\n",
    "\n"
   ]
  },
  {
   "cell_type": "markdown",
   "metadata": {},
   "source": [
    "We will talk about the <b>Viterbi heuristic</b> here. This is a greedy algorithm, which does the following,\n",
    "\n",
    "Say there are n words to be tagged, for the ith word w, it will assign the tag T such that\n",
    "\n",
    "P(w|T) * P(T|t) is maximum, where t is the previous tag."
   ]
  },
  {
   "cell_type": "code",
   "execution_count": null,
   "metadata": {},
   "outputs": [],
   "source": []
  }
 ],
 "metadata": {
  "kernelspec": {
   "display_name": "Python 3",
   "language": "python",
   "name": "python3"
  },
  "language_info": {
   "codemirror_mode": {
    "name": "ipython",
    "version": 3
   },
   "file_extension": ".py",
   "mimetype": "text/x-python",
   "name": "python",
   "nbconvert_exporter": "python",
   "pygments_lexer": "ipython3",
   "version": "3.9.1"
  }
 },
 "nbformat": 4,
 "nbformat_minor": 2
}
