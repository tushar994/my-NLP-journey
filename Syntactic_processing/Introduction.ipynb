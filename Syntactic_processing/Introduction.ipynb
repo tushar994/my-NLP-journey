{
 "cells": [
  {
   "cell_type": "markdown",
   "metadata": {},
   "source": [
    "So far, in lexical processing, we have treated our text as a set of words. We disregarded the order of the words, removed stop words, converted words to their root form, and treated the set of occurances of a word as if each occurance has the same meaning. This is very shortsighted, and when we do this, we can lose alot of information, in terms of the meaning of the text.\n",
    "So examples are:-\n",
    "\n",
    "Order of words:-<br>\n",
    "dog bites man<br>\n",
    "man bites dog<br>\n",
    "\n",
    "stop words:-<br>\n",
    "there is a cat in the box<br>\n",
    "there is a cat on the box<br>\n",
    "\n",
    "root form:-<br>\n",
    "Our workers are working very hard<br>\n",
    "(workers and working will be treated as if they are the same)<br>\n",
    "\n",
    "same word different meaning:-<br>\n",
    "he is learning driving in a driving school<br>\n",
    "(driving and driving have different meanings here)<br>"
   ]
  },
  {
   "cell_type": "markdown",
   "metadata": {},
   "source": [
    "That is why we need syntactic processing"
   ]
  },
  {
   "cell_type": "markdown",
   "metadata": {},
   "source": [
    "First we will talk about parsing\n"
   ]
  },
  {
   "cell_type": "code",
   "execution_count": null,
   "metadata": {},
   "outputs": [],
   "source": []
  }
 ],
 "metadata": {
  "kernelspec": {
   "display_name": "Python 3",
   "language": "python",
   "name": "python3"
  },
  "language_info": {
   "codemirror_mode": {
    "name": "ipython",
    "version": 3
   },
   "file_extension": ".py",
   "mimetype": "text/x-python",
   "name": "python",
   "nbconvert_exporter": "python",
   "pygments_lexer": "ipython3",
   "version": "3.7.4"
  }
 },
 "nbformat": 4,
 "nbformat_minor": 2
}
